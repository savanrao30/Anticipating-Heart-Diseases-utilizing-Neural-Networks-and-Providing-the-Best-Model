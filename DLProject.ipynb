{
  "cells": [
    {
      "cell_type": "markdown",
      "metadata": {
        "id": "C04dUDocVDgq"
      },
      "source": [
        "<center>\n",
        "<h1> Anticipating Heart Diseases utilizing Neural Networks and Providing the Best Model, among other Machine Learning Models </h1>\n",
        "\n",
        "<h3> Deep Learning Project </h3>\n",
        "\n",
        "<h4>KRISHNASAI VADDE</h4>\n",
        "\n",
        "\n",
        "</center>"
      ]
    },
    {
      "cell_type": "markdown",
      "metadata": {
        "collapsed": true,
        "id": "sgbyNhCDVDgx"
      },
      "source": [
        "## Step 1. Split the dataset into training data and testing data"
      ]
    },
    {
      "cell_type": "code",
      "source": [
        "import pandas as pd\n",
        "from sklearn.model_selection import train_test_split\n",
        "from sklearn.preprocessing import StandardScaler\n",
        "import warnings\n",
        "warnings.filterwarnings('ignore', category=UserWarning, append=True)"
      ],
      "metadata": {
        "id": "2ihFHI99WXv_"
      },
      "execution_count": 41,
      "outputs": []
    },
    {
      "cell_type": "code",
      "execution_count": 42,
      "metadata": {
        "collapsed": true,
        "id": "A8SSX-frVDgy"
      },
      "outputs": [],
      "source": [
        "heart_project = pd.read_csv(\"/content/sample_data/heart-disease-data.csv\")\n",
        "heart_project = heart_project[heart_project['BMI'].notnull()]\n",
        "\n",
        "# X = heart_project.drop('CHD', axis=1)\n",
        "X = heart_project.iloc[:,:-1]\n",
        "y = heart_project.iloc[: , -1]\n",
        "X_train, X_test, targettraindata, targettestdata  = train_test_split(X,y, test_size = 0.2, random_state = 1)\n",
        "sc_X = StandardScaler()\n",
        "featurestraindata=sc_X.fit_transform(X_train)\n",
        "featurestestdata=sc_X.transform(X_test)\n",
        "#featurestraindata, featurestestdata, targettraindata, targettestdata = train_test_split(X,y, test_size = 0.2, random_state = 1)"
      ]
    },
    {
      "cell_type": "code",
      "source": [
        "heart_project.info()"
      ],
      "metadata": {
        "colab": {
          "base_uri": "https://localhost:8080/"
        },
        "id": "QMlkSprsPjUZ",
        "outputId": "d491baec-7202-4602-c150-56b2151967f7"
      },
      "execution_count": 43,
      "outputs": [
        {
          "output_type": "stream",
          "name": "stdout",
          "text": [
            "<class 'pandas.core.frame.DataFrame'>\n",
            "Int64Index: 3800 entries, 0 to 3813\n",
            "Data columns (total 9 columns):\n",
            " #   Column      Non-Null Count  Dtype  \n",
            "---  ------      --------------  -----  \n",
            " 0   age         3800 non-null   int64  \n",
            " 1   cigsPerDay  3800 non-null   int64  \n",
            " 2   totChol     3800 non-null   int64  \n",
            " 3   sysBP       3800 non-null   float64\n",
            " 4   diaBP       3800 non-null   float64\n",
            " 5   BMI         3800 non-null   float64\n",
            " 6   heartRate   3800 non-null   int64  \n",
            " 7   glucose     3800 non-null   int64  \n",
            " 8   CHD         3800 non-null   int64  \n",
            "dtypes: float64(3), int64(6)\n",
            "memory usage: 296.9 KB\n"
          ]
        }
      ]
    },
    {
      "cell_type": "markdown",
      "metadata": {
        "id": "PnzYkIMAVDgy"
      },
      "source": [
        "## Step 2. Algorithm Analysis"
      ]
    },
    {
      "cell_type": "markdown",
      "metadata": {
        "id": "qQlx_mUYVDgy"
      },
      "source": [
        "## Method 1. KNN"
      ]
    },
    {
      "cell_type": "code",
      "source": [
        "from sklearn.neighbors import KNeighborsClassifier\n",
        "from sklearn.metrics import *"
      ],
      "metadata": {
        "id": "bxEWZmbaWr34"
      },
      "execution_count": 44,
      "outputs": []
    },
    {
      "cell_type": "code",
      "source": [
        "results=[]"
      ],
      "metadata": {
        "id": "RbSjZIS3n7VY"
      },
      "execution_count": 45,
      "outputs": []
    },
    {
      "cell_type": "code",
      "execution_count": 46,
      "metadata": {
        "collapsed": true,
        "colab": {
          "base_uri": "https://localhost:8080/"
        },
        "id": "FG_bU6c3VDgz",
        "outputId": "d7ad9356-2868-44c3-ae19-c093f9d62704"
      },
      "outputs": [
        {
          "output_type": "stream",
          "name": "stdout",
          "text": [
            "Accuracy of knnModel: 0.8289473684210527\n",
            "              precision    recall  f1-score   support\n",
            "\n",
            "           0       0.86      0.95      0.90       643\n",
            "           1       0.37      0.16      0.23       117\n",
            "\n",
            "    accuracy                           0.83       760\n",
            "   macro avg       0.62      0.56      0.57       760\n",
            "weighted avg       0.79      0.83      0.80       760\n",
            "\n"
          ]
        }
      ],
      "source": [
        "knnModel = KNeighborsClassifier(n_neighbors = 3, p=2)\n",
        "knnModel.fit(featurestraindata,targettraindata)\n",
        "targetpredicted = knnModel.predict(featurestestdata)\n",
        "knnResult=knnModel.score(featurestestdata,targettestdata)\n",
        "results.append(('KNN Model Accuracy', knnResult))\n",
        "print(\"Accuracy of knnModel:\",knnResult)\n",
        "print(classification_report(targettestdata, targetpredicted))"
      ]
    },
    {
      "cell_type": "markdown",
      "metadata": {
        "id": "e0eE6tmLVDgz"
      },
      "source": [
        "## Method 2. Linear SVM"
      ]
    },
    {
      "cell_type": "code",
      "execution_count": 47,
      "metadata": {
        "collapsed": true,
        "id": "dqS5JZQfVDgz"
      },
      "outputs": [],
      "source": [
        "from sklearn.svm import SVC"
      ]
    },
    {
      "cell_type": "code",
      "source": [
        "linearSVMModel = SVC(kernel='linear')\n",
        "linearSVMModel.fit(featurestraindata,targettraindata)\n",
        "targetpredicted = linearSVMModel.predict(featurestestdata)\n",
        "linearSVMModeResult=linearSVMModel.score(featurestestdata,targettestdata)\n",
        "results.append(('Linear SVM Model Accuracy', linearSVMModeResult))\n",
        "print(\"Accuracy of linearSVMModel:\",linearSVMModeResult)\n",
        "print(classification_report(targettestdata, targetpredicted))"
      ],
      "metadata": {
        "colab": {
          "base_uri": "https://localhost:8080/"
        },
        "id": "x4CrDdZ9XfOC",
        "outputId": "2ef82b61-e7f4-4779-9e62-b02de75b04a1"
      },
      "execution_count": 48,
      "outputs": [
        {
          "output_type": "stream",
          "name": "stdout",
          "text": [
            "Accuracy of linearSVMModel: 0.8460526315789474\n",
            "              precision    recall  f1-score   support\n",
            "\n",
            "           0       0.85      1.00      0.92       643\n",
            "           1       0.00      0.00      0.00       117\n",
            "\n",
            "    accuracy                           0.85       760\n",
            "   macro avg       0.42      0.50      0.46       760\n",
            "weighted avg       0.72      0.85      0.78       760\n",
            "\n"
          ]
        }
      ]
    },
    {
      "cell_type": "markdown",
      "metadata": {
        "id": "hoSJBENCVDg0"
      },
      "source": [
        "## Method 3. Gaussian Kernal SVM"
      ]
    },
    {
      "cell_type": "code",
      "execution_count": 49,
      "metadata": {
        "collapsed": true,
        "colab": {
          "base_uri": "https://localhost:8080/"
        },
        "id": "VEFOQhZSVDg0",
        "outputId": "b0ff3ba5-9167-4162-f1a2-cf27f7e07a84"
      },
      "outputs": [
        {
          "output_type": "stream",
          "name": "stdout",
          "text": [
            "Accuracy of gaussianKernalSVMModel: 0.8486842105263158\n",
            "              precision    recall  f1-score   support\n",
            "\n",
            "           0       0.85      1.00      0.92       643\n",
            "           1       1.00      0.02      0.03       117\n",
            "\n",
            "    accuracy                           0.85       760\n",
            "   macro avg       0.92      0.51      0.48       760\n",
            "weighted avg       0.87      0.85      0.78       760\n",
            "\n"
          ]
        }
      ],
      "source": [
        "gaussianKernalSVMModel = SVC(kernel='rbf')\n",
        "gaussianKernalSVMModel.fit(featurestraindata,targettraindata)\n",
        "targetpredicted = gaussianKernalSVMModel.predict(featurestestdata)\n",
        "gaussianKernalSVMResult=gaussianKernalSVMModel.score(featurestestdata,targettestdata)\n",
        "results.append(('Gaussian Kernal SVM Model Accuracy',gaussianKernalSVMResult ))\n",
        "print(\"Accuracy of gaussianKernalSVMModel:\",gaussianKernalSVMResult)\n",
        "print(classification_report(targettestdata, targetpredicted))"
      ]
    },
    {
      "cell_type": "markdown",
      "metadata": {
        "id": "jyMjywLVVDg0"
      },
      "source": [
        "## Method 4. Naive Bayes"
      ]
    },
    {
      "cell_type": "code",
      "source": [
        "from sklearn.naive_bayes import GaussianNB"
      ],
      "metadata": {
        "id": "V72thYx2YIOK"
      },
      "execution_count": 50,
      "outputs": []
    },
    {
      "cell_type": "code",
      "execution_count": 51,
      "metadata": {
        "collapsed": true,
        "colab": {
          "base_uri": "https://localhost:8080/"
        },
        "id": "V3gbVI7FVDg1",
        "outputId": "42723e16-b23b-4081-df4b-c024fe9f535b"
      },
      "outputs": [
        {
          "output_type": "stream",
          "name": "stdout",
          "text": [
            "Accuracy of NaiveBayesModel: 0.825\n",
            "              precision    recall  f1-score   support\n",
            "\n",
            "           0       0.87      0.93      0.90       643\n",
            "           1       0.39      0.23      0.29       117\n",
            "\n",
            "    accuracy                           0.82       760\n",
            "   macro avg       0.63      0.58      0.59       760\n",
            "weighted avg       0.80      0.82      0.81       760\n",
            "\n"
          ]
        }
      ],
      "source": [
        "NaiveBayesModel = GaussianNB()\n",
        "NaiveBayesModel.fit(featurestraindata,targettraindata)\n",
        "targetpredicted = NaiveBayesModel.predict(featurestestdata)\n",
        "NaiveBayesResult= NaiveBayesModel.score(featurestestdata,targettestdata)\n",
        "results.append(('NaiveBayes Model Accuracy',NaiveBayesResult ))\n",
        "print(\"Accuracy of NaiveBayesModel:\", NaiveBayesResult)\n",
        "print(classification_report(targettestdata, targetpredicted))"
      ]
    },
    {
      "cell_type": "markdown",
      "metadata": {
        "id": "6sZrJuyYVDg1"
      },
      "source": [
        "## Method 5. Decision Tree"
      ]
    },
    {
      "cell_type": "code",
      "execution_count": 52,
      "metadata": {
        "collapsed": true,
        "id": "lKaA2EMaVDg1"
      },
      "outputs": [],
      "source": [
        "from sklearn.tree import DecisionTreeClassifier"
      ]
    },
    {
      "cell_type": "code",
      "source": [
        "decisionTreeModel = DecisionTreeClassifier()\n",
        "decisionTreeModel.fit(featurestraindata,targettraindata)\n",
        "targetpredicted = decisionTreeModel.predict(featurestestdata)\n",
        "decisionTreeResult= decisionTreeModel.score(featurestestdata,targettestdata)\n",
        "results.append(('Decision Tree Model Accuracy',decisionTreeResult ))\n",
        "print(\"Accuracy of decisionTreeModel:\",decisionTreeResult)\n",
        "print(classification_report(targettestdata, targetpredicted))"
      ],
      "metadata": {
        "colab": {
          "base_uri": "https://localhost:8080/"
        },
        "id": "H_S1tz0gYYLT",
        "outputId": "549e5dee-e816-4114-827e-e3f2b41c2dad"
      },
      "execution_count": 53,
      "outputs": [
        {
          "output_type": "stream",
          "name": "stdout",
          "text": [
            "Accuracy of decisionTreeModel: 0.756578947368421\n",
            "              precision    recall  f1-score   support\n",
            "\n",
            "           0       0.86      0.85      0.86       643\n",
            "           1       0.22      0.22      0.22       117\n",
            "\n",
            "    accuracy                           0.76       760\n",
            "   macro avg       0.54      0.54      0.54       760\n",
            "weighted avg       0.76      0.76      0.76       760\n",
            "\n"
          ]
        }
      ]
    },
    {
      "cell_type": "markdown",
      "metadata": {
        "id": "6qOP8B8wVDg2"
      },
      "source": [
        "## Method 6. Random Forest"
      ]
    },
    {
      "cell_type": "code",
      "execution_count": 54,
      "metadata": {
        "collapsed": true,
        "id": "QVxeu2-aVDg2"
      },
      "outputs": [],
      "source": [
        "from sklearn.ensemble import RandomForestClassifier"
      ]
    },
    {
      "cell_type": "code",
      "source": [
        "randomForestModel = RandomForestClassifier(n_estimators = 1)\n",
        "randomForestModel.fit(featurestraindata,targettraindata)\n",
        "targetpredicted = randomForestModel.predict(featurestestdata)\n",
        "randomForestResult= randomForestModel.score(featurestestdata,targettestdata)\n",
        "results.append(('Random Forest Model Accuracy',randomForestResult ))\n",
        "print(\"Accuracy of randomForestModel:\",randomForestResult)\n",
        "print(classification_report(targettestdata, targetpredicted))"
      ],
      "metadata": {
        "colab": {
          "base_uri": "https://localhost:8080/"
        },
        "id": "5Uz_ZO2eYlhF",
        "outputId": "b9e90932-2064-4f69-a5e3-918d173ddfc5"
      },
      "execution_count": 55,
      "outputs": [
        {
          "output_type": "stream",
          "name": "stdout",
          "text": [
            "Accuracy of randomForestModel: 0.7684210526315789\n",
            "              precision    recall  f1-score   support\n",
            "\n",
            "           0       0.87      0.86      0.86       643\n",
            "           1       0.26      0.28      0.27       117\n",
            "\n",
            "    accuracy                           0.77       760\n",
            "   macro avg       0.57      0.57      0.57       760\n",
            "weighted avg       0.77      0.77      0.77       760\n",
            "\n"
          ]
        }
      ]
    },
    {
      "cell_type": "markdown",
      "metadata": {
        "collapsed": true,
        "id": "UNcEZzIKVDg2"
      },
      "source": [
        "## Method 7. Voting Classifier"
      ]
    },
    {
      "cell_type": "code",
      "execution_count": 56,
      "metadata": {
        "collapsed": true,
        "id": "9t6GGY4xVDg2"
      },
      "outputs": [],
      "source": [
        "from sklearn.ensemble import VotingClassifier"
      ]
    },
    {
      "cell_type": "code",
      "source": [
        "SEED = 1\n",
        "\n",
        "NaiveBayesModel = GaussianNB()\n",
        "gaussianKernalSVMModel = SVC(kernel='rbf')\n",
        "linearSVMModel = SVC(kernel='linear')\n",
        "randomForestModel = RandomForestClassifier(n_estimators = 300)\n",
        "knnModel = KNeighborsClassifier(n_neighbors = 3, p = 2)\n",
        "decisionTreeModel = DecisionTreeClassifier(random_state = SEED)\n",
        "classifiers = [('Random Forest',randomForestModel),\n",
        "               ('SVM',linearSVMModel),\n",
        "               ('Naive',NaiveBayesModel),\n",
        "               ('K Nearest Neighbours',knnModel),\n",
        "               ('Classification Tree',decisionTreeModel),\n",
        "               ('RBF',gaussianKernalSVMModel)\n",
        "               ]\n",
        "votingClassifierModel = VotingClassifier(estimators=classifiers)\n",
        "votingClassifierModel.fit(featurestraindata,targettraindata)\n",
        "targetpredicted = votingClassifierModel.predict(featurestestdata)\n",
        "votingClassifierResult= votingClassifierModel.score(featurestestdata,targettestdata)\n",
        "results.append(('Voting Classifier Model Accuracy',votingClassifierResult ))\n",
        "print(\"Accuracy of votingClassifierModel:\",votingClassifierResult)\n",
        "print(classification_report(targettestdata, targetpredicted))"
      ],
      "metadata": {
        "colab": {
          "base_uri": "https://localhost:8080/"
        },
        "id": "AMcW-rtQY27c",
        "outputId": "dc171622-400f-435c-94b6-69731cef8e05"
      },
      "execution_count": 57,
      "outputs": [
        {
          "output_type": "stream",
          "name": "stdout",
          "text": [
            "Accuracy of votingClassifierModel: 0.8486842105263158\n",
            "              precision    recall  f1-score   support\n",
            "\n",
            "           0       0.85      1.00      0.92       643\n",
            "           1       0.75      0.03      0.05       117\n",
            "\n",
            "    accuracy                           0.85       760\n",
            "   macro avg       0.80      0.51      0.48       760\n",
            "weighted avg       0.83      0.85      0.78       760\n",
            "\n"
          ]
        }
      ]
    },
    {
      "cell_type": "markdown",
      "metadata": {
        "collapsed": true,
        "id": "Q-NrLF_lVDg2"
      },
      "source": [
        "## Method 8. Bagging"
      ]
    },
    {
      "cell_type": "code",
      "execution_count": 58,
      "metadata": {
        "collapsed": true,
        "id": "3DJsadU-VDg2"
      },
      "outputs": [],
      "source": [
        "from sklearn.ensemble import BaggingClassifier"
      ]
    },
    {
      "cell_type": "code",
      "source": [
        "knnModel = KNeighborsClassifier(n_neighbors = 3, p = 2)\n",
        "baggingModel = BaggingClassifier(base_estimator=knnModel, n_estimators = 100,\n",
        "                       n_jobs=-1)\n",
        "baggingModel.fit(featurestraindata,targettraindata)\n",
        "targetpredicted = baggingModel.predict(featurestestdata)\n",
        "baggingResult= baggingModel.score(featurestestdata,targettestdata)\n",
        "results.append(('Bagging Model Accuracy',baggingResult ))\n",
        "print(\"Accuracy of baggingModel:\",baggingResult)\n",
        "print(classification_report(targettestdata, targetpredicted))"
      ],
      "metadata": {
        "colab": {
          "base_uri": "https://localhost:8080/"
        },
        "id": "WPTi8EeGZ9uu",
        "outputId": "2a9ae305-15bd-4cb5-d31c-6631782af16b"
      },
      "execution_count": 59,
      "outputs": [
        {
          "output_type": "stream",
          "name": "stdout",
          "text": [
            "Accuracy of baggingModel: 0.8394736842105263\n",
            "              precision    recall  f1-score   support\n",
            "\n",
            "           0       0.86      0.97      0.91       643\n",
            "           1       0.44      0.15      0.22       117\n",
            "\n",
            "    accuracy                           0.84       760\n",
            "   macro avg       0.65      0.56      0.56       760\n",
            "weighted avg       0.80      0.84      0.80       760\n",
            "\n"
          ]
        }
      ]
    },
    {
      "cell_type": "markdown",
      "source": [
        "## Method 9. Logistic Regression"
      ],
      "metadata": {
        "id": "4dAvmDliV6_2"
      }
    },
    {
      "cell_type": "code",
      "source": [
        "from sklearn.linear_model import LogisticRegression"
      ],
      "metadata": {
        "id": "uKV6MxzQxRXj"
      },
      "execution_count": 60,
      "outputs": []
    },
    {
      "cell_type": "code",
      "source": [
        "logisticRegrModel = LogisticRegression()\n",
        "logisticRegrModel.fit(featurestraindata,targettraindata)\n",
        "targetpredicted = logisticRegrModel.predict(featurestestdata)\n",
        "logisticRegrResult= logisticRegrModel.score(featurestestdata,targettestdata)\n",
        "results.append(('Logistic Regression Accuracy',logisticRegrResult ))\n",
        "print(\"Accuracy of LogisticRegressionModel:\",logisticRegrResult)\n",
        "print(classification_report(targettestdata, targetpredicted))"
      ],
      "metadata": {
        "colab": {
          "base_uri": "https://localhost:8080/"
        },
        "id": "Wb_2tkPyxSas",
        "outputId": "4a962a55-d69e-401a-8f02-3701705919d1"
      },
      "execution_count": 61,
      "outputs": [
        {
          "output_type": "stream",
          "name": "stdout",
          "text": [
            "Accuracy of LogisticRegressionModel: 0.8513157894736842\n",
            "              precision    recall  f1-score   support\n",
            "\n",
            "           0       0.85      0.99      0.92       643\n",
            "           1       0.67      0.07      0.12       117\n",
            "\n",
            "    accuracy                           0.85       760\n",
            "   macro avg       0.76      0.53      0.52       760\n",
            "weighted avg       0.83      0.85      0.80       760\n",
            "\n"
          ]
        }
      ]
    },
    {
      "cell_type": "markdown",
      "source": [
        "## Method 10. MLP Classifier"
      ],
      "metadata": {
        "id": "qQggGq2bWNOO"
      }
    },
    {
      "cell_type": "code",
      "source": [
        "from sklearn.neural_network import MLPClassifier\n",
        "import matplotlib.pyplot as plt"
      ],
      "metadata": {
        "id": "_v3gY4eIydRb"
      },
      "execution_count": 62,
      "outputs": []
    },
    {
      "cell_type": "code",
      "source": [
        "mlpModel = MLPClassifier(hidden_layer_sizes=(256),activation=\"logistic\",random_state=1,max_iter=1000)\n",
        "mlpModel.fit(featurestraindata,targettraindata)\n",
        "targetpredicted = mlpModel.predict(featurestestdata)\n",
        "mlpResult= mlpModel.score(featurestestdata,targettestdata)\n",
        "results.append(('MLP Classifier Accuracy',mlpResult ))\n",
        "print(\"Accuracy of MLPClassifierModel:\",mlpResult)\n",
        "print(classification_report(targettestdata, targetpredicted))"
      ],
      "metadata": {
        "colab": {
          "base_uri": "https://localhost:8080/"
        },
        "id": "P8AYa8reyeM9",
        "outputId": "38079bbd-a64b-48da-f797-d54d97724e86"
      },
      "execution_count": 63,
      "outputs": [
        {
          "output_type": "stream",
          "name": "stdout",
          "text": [
            "Accuracy of MLPClassifierModel: 0.8552631578947368\n",
            "              precision    recall  f1-score   support\n",
            "\n",
            "           0       0.86      0.99      0.92       643\n",
            "           1       0.71      0.10      0.18       117\n",
            "\n",
            "    accuracy                           0.86       760\n",
            "   macro avg       0.78      0.55      0.55       760\n",
            "weighted avg       0.84      0.86      0.81       760\n",
            "\n"
          ]
        }
      ]
    },
    {
      "cell_type": "code",
      "source": [
        "results"
      ],
      "metadata": {
        "colab": {
          "base_uri": "https://localhost:8080/"
        },
        "id": "i5Q68WYJXxVg",
        "outputId": "a59aff48-98aa-472b-f277-491d06f8c21d"
      },
      "execution_count": 64,
      "outputs": [
        {
          "output_type": "execute_result",
          "data": {
            "text/plain": [
              "[('KNN Model Accuracy', 0.8289473684210527),\n",
              " ('Linear SVM Model Accuracy', 0.8460526315789474),\n",
              " ('Gaussian Kernal SVM Model Accuracy', 0.8486842105263158),\n",
              " ('NaiveBayes Model Accuracy', 0.825),\n",
              " ('Decision Tree Model Accuracy', 0.756578947368421),\n",
              " ('Random Forest Model Accuracy', 0.7684210526315789),\n",
              " ('Voting Classifier Model Accuracy', 0.8486842105263158),\n",
              " ('Bagging Model Accuracy', 0.8394736842105263),\n",
              " ('Logistic Regression Accuracy', 0.8513157894736842),\n",
              " ('MLP Classifier Accuracy', 0.8552631578947368)]"
            ]
          },
          "metadata": {},
          "execution_count": 64
        }
      ]
    }
  ],
  "metadata": {
    "kernelspec": {
      "display_name": "Python 3 (ipykernel)",
      "language": "python",
      "name": "python3"
    },
    "language_info": {
      "codemirror_mode": {
        "name": "ipython",
        "version": 3
      },
      "file_extension": ".py",
      "mimetype": "text/x-python",
      "name": "python",
      "nbconvert_exporter": "python",
      "pygments_lexer": "ipython3",
      "version": "3.9.7"
    },
    "colab": {
      "name": "DLProject.ipynb",
      "provenance": []
    }
  },
  "nbformat": 4,
  "nbformat_minor": 0
}